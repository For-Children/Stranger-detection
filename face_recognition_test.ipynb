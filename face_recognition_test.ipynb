{
 "cells": [
  {
   "cell_type": "code",
   "execution_count": 12,
   "id": "c0ae7942",
   "metadata": {
    "ExecuteTime": {
     "end_time": "2021-08-17T07:14:10.677451Z",
     "start_time": "2021-08-17T07:14:10.668193Z"
    }
   },
   "outputs": [],
   "source": [
    "import face_recognition\n",
    "from face_recognition import load_image_file, face_encodings\n",
    "import cv2\n",
    "import numpy as np\n",
    "import os\n",
    "from glob import glob"
   ]
  },
  {
   "cell_type": "code",
   "execution_count": 10,
   "id": "1a9dca97",
   "metadata": {
    "ExecuteTime": {
     "end_time": "2021-08-17T07:12:07.597638Z",
     "start_time": "2021-08-17T07:12:07.573644Z"
    }
   },
   "outputs": [],
   "source": [
    "def capture(file_name, file_path = \"images/\"):\n",
    "    cam = cv2.VideoCapture(0)\n",
    "    cam.set(cv2.CAP_PROP_FRAME_WIDTH, 640)\n",
    "    cam.set(cv2.CAP_PROP_FRAME_HEIGHT, 480)\n",
    "    ret, frame = cam.read()\n",
    "    cv2.imwrite(os.path.join(file_path, file_name), frame)"
   ]
  },
  {
   "cell_type": "code",
   "execution_count": 11,
   "id": "ef18a56a",
   "metadata": {
    "ExecuteTime": {
     "end_time": "2021-08-17T07:12:10.933549Z",
     "start_time": "2021-08-17T07:12:10.626454Z"
    }
   },
   "outputs": [],
   "source": [
    "# capture('test.png')"
   ]
  },
  {
   "cell_type": "code",
   "execution_count": 14,
   "id": "b03cc4db",
   "metadata": {
    "ExecuteTime": {
     "end_time": "2021-08-17T07:18:09.841921Z",
     "start_time": "2021-08-17T07:18:09.816915Z"
    }
   },
   "outputs": [],
   "source": [
    "# 데이터 인코딩\n",
    "def data_encoding(img_paths=\"images/\"):\n",
    "    # 인식하고 싶은 사람들의 이미지 로드\n",
    "    img_paths = glob(os.path.join(img_paths, \"*.png\"))\n",
    "\n",
    "    # 얼굴 인코딩, 이름 저장\n",
    "    known_face_encodings = []\n",
    "    known_face_names = []\n",
    "\n",
    "    for img_path in img_paths:\n",
    "        img = face_recognition.load_image_file(img_path)\n",
    "        face_encoding = face_recognition.face_encodings(img)[0]\n",
    "        known_face_encodings.append(face_encoding)\n",
    "        file_name = os.path.split(img_path)[-1][:-4]\n",
    "        known_face_names.append(file_name)\n",
    "        \n",
    "    return known_face_encodings, known_face_names"
   ]
  },
  {
   "cell_type": "code",
   "execution_count": 19,
   "id": "d2e9690f",
   "metadata": {
    "ExecuteTime": {
     "end_time": "2021-08-17T07:23:16.820628Z",
     "start_time": "2021-08-17T07:23:16.797627Z"
    },
    "code_folding": []
   },
   "outputs": [],
   "source": [
    "def main():\n",
    "    # 데이터 인코딩\n",
    "    known_face_encodings, known_face_names = data_encoding()\n",
    "\n",
    "    # 노트북: 웹켐, 라즈베리파이: 카메라\n",
    "    cam = cv2.VideoCapture(0)\n",
    "\n",
    "    # 이미지 너비, 높이 설정\n",
    "    cam.set(cv2.CAP_PROP_FRAME_WIDTH, 640)\n",
    "    cam.set(cv2.CAP_PROP_FRAME_HEIGHT, 480)\n",
    "\n",
    "    # 변수 initialize\n",
    "    face_locations = []\n",
    "    face_encodings = []\n",
    "    face_names = []\n",
    "    process_this_frame = True\n",
    "\n",
    "    while True:\n",
    "        # 캡쳐\n",
    "        ret, frame = cam.read()\n",
    "\n",
    "        # 빠른 얼굴 인식 처리를 위해 프레임 사이즈를 1/4로 줄임\n",
    "        small_frame = cv2.resize(frame, (0, 0), fx=0.25, fy=0.25)\n",
    "\n",
    "        # BGR -> RGB 변환\n",
    "        rgb_small_frame = small_frame[:, :, ::-1]\n",
    "\n",
    "        # 시간을 절약하기 위해 다른 모든 프레임만 처리함\n",
    "        if process_this_frame:\n",
    "            # 얼굴 탐지 -> 인코딩\n",
    "            face_locations = face_recognition.face_locations(rgb_small_frame)\n",
    "            face_encodings = face_recognition.face_encodings(rgb_small_frame, face_locations)\n",
    "\n",
    "            face_names = []\n",
    "            for face_encoding in face_encodings:\n",
    "                # 인식된 얼굴이 있는지 확인\n",
    "                matches = face_recognition.compare_faces(known_face_encodings, face_encoding)\n",
    "                name = \"Unknown\"\n",
    "                face_distances = face_recognition.face_distance(known_face_encodings, face_encoding)\n",
    "                best_match_index = np.argmin(face_distances)\n",
    "\n",
    "                # 얼굴 인식 O \n",
    "                if matches[best_match_index]:\n",
    "                    name = known_face_names[best_match_index]\n",
    "\n",
    "                face_names.append(name)\n",
    "\n",
    "        process_this_frame = not process_this_frame\n",
    "\n",
    "\n",
    "        # 결과 출력\n",
    "        for (top, right, bottom, left), name in zip(face_locations, face_names):\n",
    "            # Scale back up face locations since the frame we detected in was scaled to 1/4 size\n",
    "            top *= 4\n",
    "            right *= 4\n",
    "            bottom *= 4\n",
    "            left *= 4\n",
    "\n",
    "            # 탐지된 얼굴에 박스 그리기\n",
    "            cv2.rectangle(frame, (left, top), (right, bottom), (0, 0, 255), 2)\n",
    "\n",
    "            # 탐지된 얼굴의 인식 결과 출력\n",
    "            cv2.rectangle(frame, (left, bottom - 35), (right, bottom), (0, 0, 255), cv2.FILLED)\n",
    "            font = cv2.FONT_HERSHEY_DUPLEX\n",
    "            cv2.putText(frame, name, (left + 6, bottom - 6), font, 1.0, (255, 255, 255), 1)\n",
    "\n",
    "        cv2.imshow('Video', frame)\n",
    "\n",
    "        # q 누르면 반복문 종료\n",
    "        if cv2.waitKey(1) & 0xFF == ord('q'):\n",
    "            break\n",
    "\n",
    "    cam.release()\n",
    "    cv2.destroyAllWindows()"
   ]
  },
  {
   "cell_type": "code",
   "execution_count": 20,
   "id": "35a51e37",
   "metadata": {
    "ExecuteTime": {
     "end_time": "2021-08-17T07:23:25.587458Z",
     "start_time": "2021-08-17T07:23:21.859323Z"
    }
   },
   "outputs": [],
   "source": [
    "if __name__ == \"__main__\":\n",
    "    main()"
   ]
  },
  {
   "cell_type": "code",
   "execution_count": null,
   "id": "37efcfe5",
   "metadata": {},
   "outputs": [],
   "source": []
  },
  {
   "cell_type": "code",
   "execution_count": null,
   "id": "adf562ff",
   "metadata": {},
   "outputs": [],
   "source": []
  }
 ],
 "metadata": {
  "kernelspec": {
   "display_name": "Python 3 (ipykernel)",
   "language": "python",
   "name": "python3"
  },
  "language_info": {
   "codemirror_mode": {
    "name": "ipython",
    "version": 3
   },
   "file_extension": ".py",
   "mimetype": "text/x-python",
   "name": "python",
   "nbconvert_exporter": "python",
   "pygments_lexer": "ipython3",
   "version": "3.7.11"
  },
  "toc": {
   "base_numbering": 1,
   "nav_menu": {},
   "number_sections": true,
   "sideBar": true,
   "skip_h1_title": false,
   "title_cell": "Table of Contents",
   "title_sidebar": "Contents",
   "toc_cell": false,
   "toc_position": {},
   "toc_section_display": true,
   "toc_window_display": false
  },
  "varInspector": {
   "cols": {
    "lenName": 16,
    "lenType": 16,
    "lenVar": 40
   },
   "kernels_config": {
    "python": {
     "delete_cmd_postfix": "",
     "delete_cmd_prefix": "del ",
     "library": "var_list.py",
     "varRefreshCmd": "print(var_dic_list())"
    },
    "r": {
     "delete_cmd_postfix": ") ",
     "delete_cmd_prefix": "rm(",
     "library": "var_list.r",
     "varRefreshCmd": "cat(var_dic_list()) "
    }
   },
   "types_to_exclude": [
    "module",
    "function",
    "builtin_function_or_method",
    "instance",
    "_Feature"
   ],
   "window_display": false
  }
 },
 "nbformat": 4,
 "nbformat_minor": 5
}
