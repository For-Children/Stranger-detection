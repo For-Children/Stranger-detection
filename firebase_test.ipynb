{
 "cells": [
  {
   "cell_type": "code",
   "execution_count": null,
   "id": "a4ac73b9",
   "metadata": {
    "ExecuteTime": {
     "end_time": "2021-08-05T10:37:03.617631Z",
     "start_time": "2021-08-05T10:37:02.883844Z"
    }
   },
   "outputs": [],
   "source": [
    "from firebase_admin import credentials, initialize_app, storage, firestore\n",
    "from datetime import datetime"
   ]
  },
  {
   "cell_type": "code",
   "execution_count": null,
   "id": "1a5e9739",
   "metadata": {
    "ExecuteTime": {
     "end_time": "2021-08-05T10:37:03.633641Z",
     "start_time": "2021-08-05T10:37:03.620666Z"
    }
   },
   "outputs": [],
   "source": [
    "# firebase 연동\n",
    "cred = credentials.Certificate(\"<your key.json>\")\n",
    "initialize_app(cred, {'storageBucket': \"<youer bucket url>\"})\n",
    "bucket = storage.bucket()"
   ]
  },
  {
   "cell_type": "code",
   "execution_count": null,
   "id": "91f5503a",
   "metadata": {
    "ExecuteTime": {
     "end_time": "2021-08-05T10:37:09.292195Z",
     "start_time": "2021-08-05T10:37:03.637602Z"
    }
   },
   "outputs": [],
   "source": [
    "# storage에 업로드\n",
    "fileName = \"unknownPeople/unknown_face.png\"\n",
    "bucket = storage.bucket()\n",
    "blob = bucket.blob(fileName)\n",
    "blob.upload_from_filename(fileName)\n",
    "\n",
    "# 저정된 이미지 url\n",
    "blob.make_public()\n",
    "img_url = blob.public_url\n",
    "print(\"your file url\", img_url)"
   ]
  },
  {
   "cell_type": "code",
   "execution_count": null,
   "id": "e3d6c939",
   "metadata": {
    "ExecuteTime": {
     "end_time": "2021-08-05T10:37:10.069237Z",
     "start_time": "2021-08-05T10:37:09.300174Z"
    }
   },
   "outputs": [],
   "source": [
    "# firestore database에 업로드\n",
    "unknownPeople_db = firestore.client()\n",
    "unknownPeople_ref = unknownPeople_db.collection(u'unknown_people').document(u'time_and_url')\n",
    "\n",
    "now = datetime.now()\n",
    "time = f\"{now.year}년-{now.month}월-{now.day}일-{now.hour}시-{now.minute}분-{now.second}초\"\n",
    "\n",
    "if not unknownPeople_ref.get().to_dict():\n",
    "    unknownPeople_ref.set({time : img_url})\n",
    "else:\n",
    "    unknownPeople_ref.update({time : img_url})\n",
    "\n",
    "doc = unknownPeople_ref.get()\n",
    "print(\"데이터베이스:\", doc.to_dict())"
   ]
  },
  {
   "cell_type": "code",
   "execution_count": null,
   "id": "5c3202aa",
   "metadata": {
    "ExecuteTime": {
     "end_time": "2021-08-05T10:37:10.334078Z",
     "start_time": "2021-08-05T10:37:10.074525Z"
    }
   },
   "outputs": [],
   "source": [
    "# firestore database 필드 삭제\n",
    "unknownPeople_ref.update({time: firestore.DELETE_FIELD})"
   ]
  },
  {
   "cell_type": "code",
   "execution_count": null,
   "id": "99351282",
   "metadata": {
    "ExecuteTime": {
     "end_time": "2021-08-05T10:37:10.582473Z",
     "start_time": "2021-08-05T10:37:10.338083Z"
    }
   },
   "outputs": [],
   "source": [
    "# firestore database 문서 삭제\n",
    "unknownPeople_ref.delete()"
   ]
  },
  {
   "cell_type": "code",
   "execution_count": null,
   "id": "3e55a38f",
   "metadata": {},
   "outputs": [],
   "source": []
  }
 ],
 "metadata": {
  "kernelspec": {
   "display_name": "Python 3 (ipykernel)",
   "language": "python",
   "name": "python3"
  },
  "language_info": {
   "codemirror_mode": {
    "name": "ipython",
    "version": 3
   },
   "file_extension": ".py",
   "mimetype": "text/x-python",
   "name": "python",
   "nbconvert_exporter": "python",
   "pygments_lexer": "ipython3",
   "version": "3.7.11"
  },
  "toc": {
   "base_numbering": 1,
   "nav_menu": {},
   "number_sections": true,
   "sideBar": true,
   "skip_h1_title": false,
   "title_cell": "Table of Contents",
   "title_sidebar": "Contents",
   "toc_cell": false,
   "toc_position": {},
   "toc_section_display": true,
   "toc_window_display": false
  },
  "varInspector": {
   "cols": {
    "lenName": 16,
    "lenType": 16,
    "lenVar": 40
   },
   "kernels_config": {
    "python": {
     "delete_cmd_postfix": "",
     "delete_cmd_prefix": "del ",
     "library": "var_list.py",
     "varRefreshCmd": "print(var_dic_list())"
    },
    "r": {
     "delete_cmd_postfix": ") ",
     "delete_cmd_prefix": "rm(",
     "library": "var_list.r",
     "varRefreshCmd": "cat(var_dic_list()) "
    }
   },
   "types_to_exclude": [
    "module",
    "function",
    "builtin_function_or_method",
    "instance",
    "_Feature"
   ],
   "window_display": false
  }
 },
 "nbformat": 4,
 "nbformat_minor": 5
}
