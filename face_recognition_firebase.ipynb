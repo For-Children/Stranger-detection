{
 "cells": [
  {
   "cell_type": "code",
   "execution_count": 1,
   "id": "df39350f",
   "metadata": {
    "ExecuteTime": {
     "end_time": "2021-08-05T17:00:40.950193Z",
     "start_time": "2021-08-05T17:00:38.300670Z"
    }
   },
   "outputs": [],
   "source": [
    "from firebase_admin import credentials, initialize_app, storage, firestore\n",
    "import face_recognition\n",
    "import cv2\n",
    "import numpy as np\n",
    "import os\n",
    "from datetime import datetime\n",
    "from glob import glob"
   ]
  },
  {
   "cell_type": "code",
   "execution_count": 2,
   "id": "cad14814",
   "metadata": {
    "ExecuteTime": {
     "end_time": "2021-08-05T17:00:40.966154Z",
     "start_time": "2021-08-05T17:00:40.952191Z"
    }
   },
   "outputs": [],
   "source": [
    "# firebase 연동\n",
    "cred = credentials.Certificate(\"<your key.json>\")\n",
    "initialize_app(cred, {'storageBucket': \"<youer bucket url>\"})\n",
    "\n",
    "# 스토리지 버킷\n",
    "bucket = storage.bucket()\n",
    "\n",
    "# 데이터베이스 연동\n",
    "unknownPeople_db = firestore.client()\n",
    "unknownPeople_ref = unknownPeople_db.collection(u'unknown_people').document(u'time_and_url')"
   ]
  },
  {
   "cell_type": "code",
   "execution_count": 3,
   "id": "d518ee23",
   "metadata": {
    "ExecuteTime": {
     "end_time": "2021-08-05T17:00:42.916503Z",
     "start_time": "2021-08-05T17:00:40.969146Z"
    }
   },
   "outputs": [],
   "source": [
    "# 인식하고 싶은 사람의 이미지 로드\n",
    "# img_paths = [\"images/jinho.png\", \"images/hodong.png\", \"images/iu.png\", \"images/boyoung.png\"]\n",
    "img_paths = glob(\"images/*.png\")\n",
    "\n",
    "# 얼굴 인코딩, 이름 저장\n",
    "known_face_encodings = []\n",
    "known_face_names = []\n",
    "\n",
    "for img_path in img_paths:\n",
    "    img = face_recognition.load_image_file(img_path)\n",
    "    face_encoding = face_recognition.face_encodings(img)[0]\n",
    "    known_face_encodings.append(face_encoding)\n",
    "    file_name = os.path.split(img_path)[-1][:-4]\n",
    "    known_face_names.append(file_name)"
   ]
  },
  {
   "cell_type": "code",
   "execution_count": 7,
   "id": "7f0bf45f",
   "metadata": {
    "ExecuteTime": {
     "end_time": "2021-08-05T17:05:05.327164Z",
     "start_time": "2021-08-05T17:04:50.254266Z"
    }
   },
   "outputs": [
    {
     "name": "stdout",
     "output_type": "stream",
     "text": [
      "시간: 2021년-8월-6일-2시-5분-0초\n",
      "낯선 사람 인식!!\n",
      "Local saved\n",
      "Storage saved\n",
      "Datebase saved\n",
      "Upload finish!\n",
      "\n"
     ]
    }
   ],
   "source": [
    "# 노트북: 웹켐, 라즈베리파이: 카메라\n",
    "cam = cv2.VideoCapture(0)\n",
    "\n",
    "# 이미지 너비, 높이 설정\n",
    "cam.set(cv2.CAP_PROP_FRAME_WIDTH, 640)\n",
    "cam.set(cv2.CAP_PROP_FRAME_HEIGHT, 480)\n",
    "\n",
    "# 변수 initialize\n",
    "face_locations = []\n",
    "face_encodings = []\n",
    "face_names = []\n",
    "process_this_frame = True\n",
    "wait_ms = 1\n",
    "\n",
    "while True:\n",
    "    # 낯선 사람이 인식되지 않았을 경우 0.001초 딜레이를 줌\n",
    "    wait_ms = 1\n",
    "    \n",
    "    # 캡쳐\n",
    "    ret, frame = cam.read()\n",
    "    \n",
    "    # 빠른 얼굴 인식 처리를 위해 프레임 사이즈를 1/4로 줄임\n",
    "    small_frame = cv2.resize(frame, (0, 0), fx=0.25, fy=0.25)\n",
    "\n",
    "    # BGR -> RGB 변환\n",
    "    rgb_small_frame = small_frame[:, :, ::-1]\n",
    "\n",
    "    # 시간을 절약하기 위해 다른 모든 프레임만 처리함\n",
    "    if process_this_frame:\n",
    "        # 얼굴 탐지 -> 인코딩\n",
    "        face_locations = face_recognition.face_locations(rgb_small_frame)\n",
    "        face_encodings = face_recognition.face_encodings(rgb_small_frame, face_locations)\n",
    "\n",
    "        face_names = []\n",
    "        for face_encoding in face_encodings:\n",
    "            # 인식된 얼굴이 있는지 확인\n",
    "            matches = face_recognition.compare_faces(known_face_encodings, face_encoding, tolerance=0.55)\n",
    "            name = \"Unknown\"\n",
    "            face_distances = face_recognition.face_distance(known_face_encodings, face_encoding)\n",
    "            best_match_index = np.argmin(face_distances)\n",
    "\n",
    "            # 얼굴 인식 O \n",
    "            if matches[best_match_index]:\n",
    "                name = known_face_names[best_match_index]\n",
    "                \n",
    "            # 얼굴 인식 X -> 낯선 사람 -> firebase에 데이터 저장\n",
    "            else:\n",
    "                # 현재 시간 저장\n",
    "                now = datetime.now()\n",
    "                time1 = now.strftime(\"%Y%m%d-%H%M%S\")\n",
    "                time2 = f\"{now.year}년-{now.month}월-{now.day}일-{now.hour}시-{now.minute}분-{now.second}초\"\n",
    "                print(f\"시간: {time2}\\n낯선 사람 인식!!\")\n",
    "                \n",
    "                # 로컬에 낯선 사람 이미지 저장\n",
    "                cv2.imwrite(f\"unknownPeople/{time1}.png\", frame)\n",
    "                print(\"Local saved\")\n",
    "                \n",
    "                # storage에 낯선 사람 이미지 업로드\n",
    "                fileName = f\"unknownPeople/{time1}.png\"\n",
    "                blob = bucket.blob(fileName)\n",
    "                blob.upload_from_filename(fileName)\n",
    "                print(\"Storage saved\")\n",
    "\n",
    "                # 저정된 이미지 url 가져오기\n",
    "                blob.make_public()\n",
    "                img_url = blob.public_url\n",
    "                \n",
    "                # (현재시각: 저장된 이미지 url)과 같은 형식의 데이터를 Firestore database에 저장  \n",
    "                if not unknownPeople_ref.get().to_dict():\n",
    "                    unknownPeople_ref.set({time2 : img_url})\n",
    "                else:\n",
    "                    unknownPeople_ref.update({time2 : img_url})                                \n",
    "                print(\"Datebase saved\")\n",
    "                print(\"Upload finish!\\n\")\n",
    "                \n",
    "                # 낯선 사람이 인식됐을 경우 2초의 딜레이를 줌 -> 너무 많은 사진이 찍히는 것을 방지\n",
    "                wait_ms = 2000\n",
    "                \n",
    "            face_names.append(name) \n",
    "        \n",
    "        \n",
    "    process_this_frame = not process_this_frame\n",
    "    \n",
    "    # 결과 출력\n",
    "    for (top, right, bottom, left), name in zip(face_locations, face_names):\n",
    "        # 프레임 사이즈를 1/4로 줄였었기 때문에, 4배를 해줘야 원래의 얼굴 위치가 된다.\n",
    "        top *= 4\n",
    "        right *= 4\n",
    "        bottom *= 4\n",
    "        left *= 4\n",
    "\n",
    "        # 탐지된 얼굴에 박스 그리기\n",
    "        cv2.rectangle(frame, (left, top), (right, bottom), (0, 0, 255), 2)\n",
    "\n",
    "        # 탐지된 얼굴의 인식 결과 출력\n",
    "        cv2.rectangle(frame, (left, bottom - 35), (right, bottom), (0, 0, 255), cv2.FILLED)\n",
    "        font = cv2.FONT_HERSHEY_DUPLEX\n",
    "        cv2.putText(frame, name, (left + 6, bottom - 6), font, 1.0, (255, 255, 255), 1)\n",
    "\n",
    "    cv2.imshow('Video', frame)\n",
    "\n",
    "    # q 누르면 반복문 종료\n",
    "    if cv2.waitKey(wait_ms) & 0xFF == ord('q'):\n",
    "        break\n",
    "\n",
    "cam.release()\n",
    "cv2.destroyAllWindows()"
   ]
  },
  {
   "cell_type": "code",
   "execution_count": null,
   "id": "445c2821",
   "metadata": {},
   "outputs": [],
   "source": []
  }
 ],
 "metadata": {
  "kernelspec": {
   "display_name": "Python 3 (ipykernel)",
   "language": "python",
   "name": "python3"
  },
  "language_info": {
   "codemirror_mode": {
    "name": "ipython",
    "version": 3
   },
   "file_extension": ".py",
   "mimetype": "text/x-python",
   "name": "python",
   "nbconvert_exporter": "python",
   "pygments_lexer": "ipython3",
   "version": "3.7.11"
  },
  "toc": {
   "base_numbering": 1,
   "nav_menu": {},
   "number_sections": true,
   "sideBar": true,
   "skip_h1_title": false,
   "title_cell": "Table of Contents",
   "title_sidebar": "Contents",
   "toc_cell": false,
   "toc_position": {},
   "toc_section_display": true,
   "toc_window_display": false
  },
  "varInspector": {
   "cols": {
    "lenName": 16,
    "lenType": 16,
    "lenVar": 40
   },
   "kernels_config": {
    "python": {
     "delete_cmd_postfix": "",
     "delete_cmd_prefix": "del ",
     "library": "var_list.py",
     "varRefreshCmd": "print(var_dic_list())"
    },
    "r": {
     "delete_cmd_postfix": ") ",
     "delete_cmd_prefix": "rm(",
     "library": "var_list.r",
     "varRefreshCmd": "cat(var_dic_list()) "
    }
   },
   "types_to_exclude": [
    "module",
    "function",
    "builtin_function_or_method",
    "instance",
    "_Feature"
   ],
   "window_display": false
  }
 },
 "nbformat": 4,
 "nbformat_minor": 5
}
